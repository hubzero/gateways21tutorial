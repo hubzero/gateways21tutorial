{
 "cells": [
  {
   "cell_type": "markdown",
   "metadata": {},
   "source": [
    "# Problem Statement\n",
    "Your assignment today is to write a Sim2L that solves a pair of ordinary differential equations describing the motion of a simple pedulum with damping applied. \n",
    "![Simple Pedulum with Damping](pendulumDiagram.gif)\n",
    "The above diagram indicates the forces acting on a pendulum swinging from a fixed point. The equation describing the motion is:\n",
    "<br>\n",
    "<br>\n",
    "$$\\frac {d^{2}\\theta} {dt^{2}} = - \\frac {b}{m} \\frac {d \\theta} {dt} - \\frac {g} {L} sin \\theta $$\n",
    "where:\n",
    "<br>\n",
    "$ \\theta $ - angle measured from vertical (radian)\n",
    "<br>\n",
    "$ t $ - time (time)\n",
    "<br>\n",
    "$ b $ - damping coeffient (mass-radian/time)\n",
    "<br>\n",
    "$ m $ - pedulum mass (mass)\n",
    "<br>\n",
    "$ g $ - gravitational constant (mass/time$^{2}$)\n",
    "<br>\n",
    "$ L $ - pendulum length (length)\n",
    "<br>\n",
    "<br>\n",
    "The second order differential equation can be broken down into a pair of first order differential more suitable for numerical solution.\n",
    "<br>\n",
    "<br>\n",
    "$$ \\frac {d \\theta} {dt} = v $$\n",
    "<br>\n",
    "$$ \\frac {dv} {dt} = - \\frac {g} {L} sin \\theta - \\frac {b}{m} v $$\n",
    "where:\n",
    "<br>\n",
    "$ v $ - angular velocity (radian/time)\n",
    "<br>\n",
    "<br>\n",
    "It is suggested that the *solve_ivp* method from scipy be used to compute the numerical solution.  Details of the *solve_ivp* method can be found online.  The Sim2L results should provide enough information to plot position and velocity as functions of time."
   ]
  },
  {
   "cell_type": "code",
   "execution_count": null,
   "metadata": {
    "tags": [
     "DESCRIPTION"
    ]
   },
   "outputs": [],
   "source": [
    "DESCRIPTION = \"\"\"Pedulum Motion with damping SimTool\"\"\""
   ]
  },
  {
   "cell_type": "code",
   "execution_count": null,
   "metadata": {
    "tags": [
     "FILES"
    ]
   },
   "outputs": [],
   "source": [
    "EXTRA_FILES = []"
   ]
  },
  {
   "cell_type": "code",
   "execution_count": null,
   "metadata": {},
   "outputs": [],
   "source": [
    "%load_ext yamlmagic"
   ]
  },
  {
   "cell_type": "markdown",
   "metadata": {},
   "source": [
    "# Input Conditions and Parameters\n",
    "Based on the pedulum model described above and your choice of numerical method, choose a suitable set of conditions and parameters for the Sim2L. "
   ]
  },
  {
   "cell_type": "code",
   "execution_count": null,
   "metadata": {},
   "outputs": [],
   "source": [
    "%%yaml INPUTS\n",
    "\n",
    "length:\n",
    "    type: Number\n",
    "    description: Pendulum length\n",
    "    value: 1\n",
    "    units: m\n",
    "    min: 0.1\n",
    "    max: 100\n",
    "mass:\n",
    "    type: Number\n",
    "    description: Pendulum mass\n",
    "    value: 1\n",
    "    units: kg\n",
    "    min: 0.001\n",
    "damp:\n",
    "    type: Number\n",
    "    description: Damping coefficient\n",
    "    value: 0.1\n",
    "    units: kg rad/s\n",
    "    min: 0.0\n",
    "initialPosition:\n",
    "    type: Number\n",
    "    description: Initial location\n",
    "    value: 0.\n",
    "    units: rad\n",
    "initialVelocity:\n",
    "    type: Number\n",
    "    description: Initial velocity\n",
    "    value: 1.\n",
    "    units: rad/s\n",
    "    min: -100\n",
    "    max: +100\n",
    "timeHorizon:\n",
    "    type: Number\n",
    "    description: Simulation duration\n",
    "    units: s\n",
    "    value: 100.\n",
    "    min: 0\n",
    "    max: 1000\n",
    "nTimePoints:\n",
    "    type: Integer\n",
    "    description: Number of points to record simulation results\n",
    "    value: 100\n",
    "    min: 2"
   ]
  },
  {
   "cell_type": "code",
   "execution_count": null,
   "metadata": {
    "tags": [
     "parameters"
    ]
   },
   "outputs": [],
   "source": [
    "from simtool import getValidatedInputs\n",
    "\n",
    "defaultInputs = getValidatedInputs(INPUTS)\n",
    "if defaultInputs:\n",
    "    globals().update(defaultInputs)"
   ]
  },
  {
   "cell_type": "markdown",
   "metadata": {},
   "source": [
    "# Output Results\n",
    "Based on the pedulum model described above and your choice of numerical method, choose a suitable set of computed results for the Sim2L. "
   ]
  },
  {
   "cell_type": "code",
   "execution_count": null,
   "metadata": {},
   "outputs": [],
   "source": [
    "%%yaml OUTPUTS\n",
    "\n",
    "success:\n",
    "    type: Boolean\n",
    "    description: Was simulation successful\n",
    "terminationMessage:\n",
    "    type: Text\n",
    "    description: Solver termination message\n",
    "time:\n",
    "    type: Array\n",
    "    description: Times position recorded\n",
    "    units: s\n",
    "position:\n",
    "    type: Array\n",
    "    description: Positions at time values\n",
    "    units: rad\n",
    "velocity:\n",
    "    type: Array\n",
    "    description: Velocity at time values\n",
    "    units: rad/s"
   ]
  },
  {
   "cell_type": "markdown",
   "metadata": {},
   "source": [
    "# Function for computing position and velocity derivatives\n",
    "Based on *solve_ivp* method requirements write a function that computes variables derivates for a given set of variable and parameter values."
   ]
  },
  {
   "cell_type": "code",
   "execution_count": null,
   "metadata": {},
   "outputs": [],
   "source": [
    "from math import sin\n",
    "from scipy.integrate import solve_ivp\n",
    "import numpy as np\n",
    "\n",
    "def model(time,variables,damp,length,mass):\n",
    "    position = variables[0]\n",
    "    velocity = variables[1]\n",
    "    gConstant = 9.81 # m/s2\n",
    "    \n",
    "    dPosition_dt = velocity\n",
    "    dVelocity_dt = -(damp/mass)*velocity - (gConstant/length)*sin(position)\n",
    "    \n",
    "    return [dPosition_dt,dVelocity_dt]"
   ]
  },
  {
   "cell_type": "markdown",
   "metadata": {},
   "source": [
    "# Initial Conditions\n",
    "Set variable initial conditions according to *solve_ivp* requirements.  "
   ]
  },
  {
   "cell_type": "code",
   "execution_count": null,
   "metadata": {},
   "outputs": [],
   "source": [
    "initialVariables = [initialPosition,initialVelocity]\n",
    "timePoints = np.linspace(0.,timeHorizon,nTimePoints)"
   ]
  },
  {
   "cell_type": "markdown",
   "metadata": {},
   "source": [
    "# Solve Equations\n",
    "The *solve_ivp* is capable of solving problems more complex or difficult than what is needed for the pendulum problem.  Here is a simplified version sufficient for the problem at hand.\n",
    "\n",
    "**result = scipy.integrate.solve_ivp(fun, t_span, y0, t_eval=fixedTimePoints, args=modelParameters)**\n",
    "<br>\n",
    "<br>\n",
    "**fun**: callable function that computes dy/dt for given t and y.\n",
    "<br>\n",
    "**t_span**: Interval of integration (t0,tf)\n",
    "<br>\n",
    "**y0**: Initial y values at t0.\n",
    "<br>\n",
    "**t_eval**: Optional set of fixed time points at which to record y values\n",
    "<br>\n",
    "**modelParameters** = Tuple of fixed model parameters\n",
    "<br>\n",
    "<br>\n",
    "It is also not necessary to consider all that *solve_ivp* is capable of returning.  The return values of interest are:\n",
    "<br>\n",
    "<br>\n",
    "**y1** = result['y'][0,:]\n",
    "<br>\n",
    "**y2** = result['y'][1,:]\n",
    "<br>\n",
    "**success** = result['success']\n",
    "<br>\n",
    "**message** = result['message']\n",
    "<br>\n",
    "**t** = result['t']\n",
    "<br>"
   ]
  },
  {
   "cell_type": "code",
   "execution_count": null,
   "metadata": {},
   "outputs": [],
   "source": [
    "result = solve_ivp(model,(0.,timeHorizon),initialVariables,t_eval=timePoints,args=(damp,length,mass))"
   ]
  },
  {
   "cell_type": "markdown",
   "metadata": {},
   "source": [
    "# Extract results\n",
    "*solve_ivp* computes many things including position and velocity trajectories.  Extract the results you need to assign values to all Sim2L outputs."
   ]
  },
  {
   "cell_type": "code",
   "execution_count": null,
   "metadata": {},
   "outputs": [],
   "source": [
    "success = result['success']\n",
    "terminationMessage = result['message']\n",
    "time = result['t']\n",
    "position = result['y'][0,:]\n",
    "velocity = result['y'][1,:]"
   ]
  },
  {
   "cell_type": "markdown",
   "metadata": {},
   "source": [
    "# Save results"
   ]
  },
  {
   "cell_type": "code",
   "execution_count": null,
   "metadata": {},
   "outputs": [],
   "source": [
    "from simtool import DB\n",
    "\n",
    "db = DB(OUTPUTS)\n",
    "\n",
    "db.save('success', success)\n",
    "db.save('terminationMessage', terminationMessage)\n",
    "db.save('time', time)\n",
    "db.save('position', position)\n",
    "db.save('velocity', velocity)"
   ]
  }
 ],
 "metadata": {
  "celltoolbar": "Tags",
  "kernelspec": {
   "display_name": "Python 3",
   "language": "python",
   "name": "python3"
  },
  "language_info": {
   "codemirror_mode": {
    "name": "ipython",
    "version": 3
   },
   "file_extension": ".py",
   "mimetype": "text/x-python",
   "name": "python",
   "nbconvert_exporter": "python",
   "pygments_lexer": "ipython3",
   "version": "3.7.7"
  }
 },
 "nbformat": 4,
 "nbformat_minor": 2
}
