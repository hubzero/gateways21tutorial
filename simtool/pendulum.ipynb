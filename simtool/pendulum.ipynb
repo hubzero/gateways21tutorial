{
 "cells": [
  {
   "cell_type": "markdown",
   "metadata": {},
   "source": [
    "# Problem Statement\n",
    "Your assignment today is to write a Sim2L that solves a pair of ordinary differential equations describing the motion of a simple pedulum with damping applied. \n",
    "![Simple Pedulum with Damping](pendulumDiagram.gif)\n",
    "The above diagram indicates the forces acting on a pendulum swinging from a fixed point. The equation describing the motion is:\n",
    "<br>\n",
    "<br>\n",
    "$$\\frac {d^{2}\\theta} {dt^{2}} = - \\frac {b}{m} \\frac {d \\theta} {dt} - \\frac {g} {L} sin \\theta $$\n",
    "where:\n",
    "<br>\n",
    "$ \\theta $ - angle measured from vertical (radian)\n",
    "<br>\n",
    "$ t $ - time (time)\n",
    "<br>\n",
    "$ b $ - damping coeffient (mass-radian/time)\n",
    "<br>\n",
    "$ m $ - pedulum mass (mass)\n",
    "<br>\n",
    "$ g $ - gravitational constant (mass/time$^{2}$)\n",
    "<br>\n",
    "$ L $ - pendulum length (length)\n",
    "<br>\n",
    "<br>\n",
    "The second order differential equation can be broken down into a pair of first order differential more suitable for numerical solution.\n",
    "<br>\n",
    "<br>\n",
    "$$ \\frac {d \\theta} {dt} = v $$\n",
    "<br>\n",
    "$$ \\frac {dv} {dt} = - \\frac {g} {L} sin \\theta - \\frac {b}{m} v $$\n",
    "where:\n",
    "<br>\n",
    "$ v $ - angular velocity (radian/time)\n",
    "<br>\n",
    "<br>\n",
    "It is suggested that the *solve_ivp* method from scipy be used to compute the numerical solution.  Details of the *solve_ivp* method can be found online.  The Sim2L results should provide enough information to plot position and velocity as functions of time."
   ]
  },
  {
   "cell_type": "code",
   "execution_count": null,
   "metadata": {
    "tags": [
     "DESCRIPTION"
    ]
   },
   "outputs": [],
   "source": [
    "DESCRIPTION = \"\"\"Fill in description\"\"\""
   ]
  },
  {
   "cell_type": "code",
   "execution_count": null,
   "metadata": {
    "tags": [
     "FILES"
    ]
   },
   "outputs": [],
   "source": [
    "EXTRA_FILES = []"
   ]
  },
  {
   "cell_type": "code",
   "execution_count": null,
   "metadata": {},
   "outputs": [],
   "source": [
    "%load_ext yamlmagic"
   ]
  },
  {
   "cell_type": "markdown",
   "metadata": {},
   "source": [
    "# Input Conditions and Parameters\n",
    "Based on the pedulum model described above and your choice of numerical method, choose a suitable set of conditions and parameters for the Sim2L. "
   ]
  },
  {
   "cell_type": "code",
   "execution_count": null,
   "metadata": {},
   "outputs": [],
   "source": [
    "%%yaml INPUTS\n"
   ]
  },
  {
   "cell_type": "code",
   "execution_count": null,
   "metadata": {
    "tags": [
     "parameters"
    ]
   },
   "outputs": [],
   "source": [
    "from simtool import getValidatedInputs\n",
    "\n",
    "defaultInputs = getValidatedInputs(INPUTS)\n",
    "if defaultInputs:\n",
    "    globals().update(defaultInputs)"
   ]
  },
  {
   "cell_type": "markdown",
   "metadata": {},
   "source": [
    "# Output Results\n",
    "Based on the pedulum model described above and your choice of numerical method, choose a suitable set of computed results for the Sim2L. "
   ]
  },
  {
   "cell_type": "code",
   "execution_count": null,
   "metadata": {},
   "outputs": [],
   "source": [
    "%%yaml OUTPUTS\n"
   ]
  },
  {
   "cell_type": "markdown",
   "metadata": {},
   "source": [
    "# Function for computing position and velocity derivatives\n",
    "Based on *solve_ivp* method requirements write a function that computes variables derivates for a given set of variable and parameter values."
   ]
  },
  {
   "cell_type": "code",
   "execution_count": null,
   "metadata": {},
   "outputs": [],
   "source": []
  },
  {
   "cell_type": "markdown",
   "metadata": {},
   "source": [
    "# Initial Conditions\n",
    "Set variable initial conditions according to *solve_ivp* requirements.  "
   ]
  },
  {
   "cell_type": "code",
   "execution_count": null,
   "metadata": {},
   "outputs": [],
   "source": []
  },
  {
   "cell_type": "markdown",
   "metadata": {},
   "source": [
    "# Solve Equations"
   ]
  },
  {
   "cell_type": "code",
   "execution_count": null,
   "metadata": {},
   "outputs": [],
   "source": []
  },
  {
   "cell_type": "markdown",
   "metadata": {},
   "source": [
    "# Extract results\n",
    "*solve_ivp* computes many things including position and velocity trajectories.  Extract the results you need to assign values to all Sim2L outputs."
   ]
  },
  {
   "cell_type": "code",
   "execution_count": null,
   "metadata": {},
   "outputs": [],
   "source": []
  },
  {
   "cell_type": "markdown",
   "metadata": {},
   "source": [
    "# Save results"
   ]
  },
  {
   "cell_type": "code",
   "execution_count": null,
   "metadata": {},
   "outputs": [],
   "source": [
    "from simtool import DB\n",
    "\n",
    "db = DB(OUTPUTS)\n"
   ]
  }
 ],
 "metadata": {
  "celltoolbar": "Tags",
  "kernelspec": {
   "display_name": "Python 3",
   "language": "python",
   "name": "python3"
  },
  "language_info": {
   "codemirror_mode": {
    "name": "ipython",
    "version": 3
   },
   "file_extension": ".py",
   "mimetype": "text/x-python",
   "name": "python",
   "nbconvert_exporter": "python",
   "pygments_lexer": "ipython3",
   "version": "3.7.7"
  }
 },
 "nbformat": 4,
 "nbformat_minor": 2
}
