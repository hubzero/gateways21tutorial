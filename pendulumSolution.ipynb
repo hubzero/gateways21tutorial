{
 "cells": [
  {
   "cell_type": "markdown",
   "metadata": {},
   "source": [
    "# Standard Sim2L library imports"
   ]
  },
  {
   "cell_type": "code",
   "execution_count": null,
   "metadata": {},
   "outputs": [],
   "source": [
    "from simtool import findSimTools,searchForSimTool\n",
    "from simtool import getSimToolInputs,getSimToolOutputs,Run"
   ]
  },
  {
   "cell_type": "markdown",
   "metadata": {},
   "source": [
    "# Locate Sim2L"
   ]
  },
  {
   "cell_type": "code",
   "execution_count": null,
   "metadata": {},
   "outputs": [],
   "source": [
    "simToolName = \"pendulumSolution\"\n",
    "simToolLocation = searchForSimTool(simToolName)"
   ]
  },
  {
   "cell_type": "markdown",
   "metadata": {},
   "source": [
    "# For the selected Sim2L retrieve and list input parameters\n",
    "This will provide the full list of parameters including descriptions, default values, and units."
   ]
  },
  {
   "cell_type": "code",
   "execution_count": null,
   "metadata": {
    "scrolled": true
   },
   "outputs": [],
   "source": [
    "inputs = getSimToolInputs(simToolLocation)\n",
    "print(inputs)"
   ]
  },
  {
   "cell_type": "markdown",
   "metadata": {},
   "source": [
    "# For the selected Sim2L retrieve and list output parameters\n",
    "This will provide the full list of result parameters to be expected when running the Sim2L.  "
   ]
  },
  {
   "cell_type": "code",
   "execution_count": null,
   "metadata": {
    "scrolled": true
   },
   "outputs": [],
   "source": [
    "outputs = getSimToolOutputs(simToolLocation)\n",
    "print(outputs)"
   ]
  },
  {
   "cell_type": "markdown",
   "metadata": {},
   "source": [
    "# Assign input parameter values\n",
    "All input parameters should have default values.  If you want to run non-default values set them here."
   ]
  },
  {
   "cell_type": "code",
   "execution_count": null,
   "metadata": {},
   "outputs": [],
   "source": [
    "inputs.damp.value = 0.05\n",
    "inputs.length.value = \"100 cm\"\n",
    "inputs.mass.value = 0.1\n",
    "inputs.initialPosition.value = \"45 degree\"\n",
    "inputs.initialVelocity.value = \"1\"\n",
    "inputs.timeHorizon.value = 30\n",
    "inputs.nTimePoints.value = 150"
   ]
  },
  {
   "cell_type": "markdown",
   "metadata": {},
   "source": [
    "# Run Sim2L\n",
    "Run the Sim2L and report the summary.  The summary will indicate if any problems occurred during the run."
   ]
  },
  {
   "cell_type": "code",
   "execution_count": null,
   "metadata": {},
   "outputs": [],
   "source": [
    "run = Run(simToolLocation,inputs)\n",
    "run.getResultSummary()"
   ]
  },
  {
   "cell_type": "markdown",
   "metadata": {},
   "source": [
    "# Extract results\n",
    "Extract any results from the run needed to plot position and velocity versus time plots."
   ]
  },
  {
   "cell_type": "code",
   "execution_count": null,
   "metadata": {
    "scrolled": true
   },
   "outputs": [],
   "source": [
    "success = run.read('success')\n",
    "terminationMessage = run.read('terminationMessage')\n",
    "time = run.read('time')\n",
    "position = run.read('position')\n",
    "velocity = run.read('velocity')\n",
    "\n",
    "print(terminationMessage)"
   ]
  },
  {
   "cell_type": "markdown",
   "metadata": {},
   "source": [
    "# Plot results\n",
    "Using the plot library of your choosing plot position and velocity versus time for the pendulum.  If you are not familiar with any ploting libraries *matplotlib* is simple and easy to use for static non-interactive plots."
   ]
  },
  {
   "cell_type": "code",
   "execution_count": null,
   "metadata": {},
   "outputs": [],
   "source": [
    "import matplotlib.pyplot as plt\n",
    "%matplotlib inline\n",
    "\n",
    "plt.plot(time,position,\"b--\")\n",
    "plt.xlabel(\"Time (\" + str(outputs.time.units) + \")\")\n",
    "plt.ylabel(\"Position (\" + str(outputs.position.units) + \")\")\n",
    "plt.show()\n",
    "\n",
    "plt.plot(time,velocity,\"r--\")\n",
    "plt.xlabel(\"Time (\" + str(outputs.time.units) + \")\")\n",
    "plt.ylabel(\"Velocity (\" + str(outputs.velocity.units) + \")\")\n",
    "plt.show()"
   ]
  }
 ],
 "metadata": {
  "kernelspec": {
   "display_name": "Python 3",
   "language": "python",
   "name": "python3"
  },
  "language_info": {
   "codemirror_mode": {
    "name": "ipython",
    "version": 3
   },
   "file_extension": ".py",
   "mimetype": "text/x-python",
   "name": "python",
   "nbconvert_exporter": "python",
   "pygments_lexer": "ipython3",
   "version": "3.7.7"
  }
 },
 "nbformat": 4,
 "nbformat_minor": 2
}
